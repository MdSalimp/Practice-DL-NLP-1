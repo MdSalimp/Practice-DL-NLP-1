{
 "cells": [
  {
   "cell_type": "code",
   "execution_count": 14,
   "metadata": {
    "_cell_guid": "b1076dfc-b9ad-4769-8c92-a6c4dae69d19",
    "_uuid": "8f2839f25d086af736a60e9eeb907d3b93b6e0e5",
    "execution": {
     "iopub.execute_input": "2022-11-19T07:12:18.608633Z",
     "iopub.status.busy": "2022-11-19T07:12:18.606670Z",
     "iopub.status.idle": "2022-11-19T07:12:19.304019Z",
     "shell.execute_reply": "2022-11-19T07:12:19.302985Z",
     "shell.execute_reply.started": "2022-11-19T07:12:18.608504Z"
    }
   },
   "outputs": [],
   "source": [
    "# This Python 3 environment comes with many helpful analytics libraries installed\n",
    "# It is defined by the kaggle/python Docker image: https://github.com/kaggle/docker-python\n",
    "# For example, here's several helpful packages to load\n",
    "\n",
    "import numpy as np # linear algebra\n",
    "import pandas as pd # data processing, CSV file I/O (e.g. pd.read_csv)\n",
    "\n",
    "# Input data files are available in the read-only \"../input/\" directory\n",
    "# For example, running this (by clicking run or pressing Shift+Enter) will list all files under the input directory\n",
    "\n",
    "import os\n",
    "for dirname, _, filenames in os.walk('/kaggle/input'):\n",
    "    for filename in filenames:\n",
    "        print(os.path.join(dirname, filename))\n",
    "\n",
    "# You can write up to 20GB to the current directory (/kaggle/working/) that gets preserved as output when you create a version using \"Save & Run All\" \n",
    "# You can also write temporary files to /kaggle/temp/, but they won't be saved outside of the current session"
   ]
  },
  {
   "cell_type": "code",
   "execution_count": 15,
   "metadata": {
    "execution": {
     "iopub.execute_input": "2022-11-19T07:15:26.338877Z",
     "iopub.status.busy": "2022-11-19T07:15:26.338495Z",
     "iopub.status.idle": "2022-11-19T07:15:26.404272Z",
     "shell.execute_reply": "2022-11-19T07:15:26.402997Z",
     "shell.execute_reply.started": "2022-11-19T07:15:26.338844Z"
    }
   },
   "outputs": [],
   "source": [
    "import keras\n",
    "from keras.models import Sequential\n",
    "from keras.layers import Conv2D,Flatten,Dense,MaxPooling2D,Dropout\n",
    "from sklearn.metrics import accuracy_score"
   ]
  },
  {
   "cell_type": "code",
   "execution_count": 16,
   "metadata": {
    "execution": {
     "iopub.execute_input": "2022-11-19T07:19:17.639297Z",
     "iopub.status.busy": "2022-11-19T07:19:17.638858Z",
     "iopub.status.idle": "2022-11-19T07:19:17.940405Z",
     "shell.execute_reply": "2022-11-19T07:19:17.938985Z",
     "shell.execute_reply.started": "2022-11-19T07:19:17.639261Z"
    }
   },
   "outputs": [],
   "source": [
    "import ipywidgets as widgets\n",
    "import io\n",
    "from PIL import Image\n",
    "import tqdm\n",
    "from sklearn.model_selection import train_test_split\n",
    "import cv2\n",
    "from sklearn.utils import shuffle\n",
    "import tensorflow as tf"
   ]
  },
  {
   "cell_type": "raw",
   "metadata": {},
   "source": [
    "Folder paths"
   ]
  },
  {
   "cell_type": "code",
   "execution_count": 17,
   "metadata": {
    "execution": {
     "iopub.execute_input": "2022-11-19T07:30:28.974194Z",
     "iopub.status.busy": "2022-11-19T07:30:28.973792Z",
     "iopub.status.idle": "2022-11-19T07:30:55.367809Z",
     "shell.execute_reply": "2022-11-19T07:30:55.366547Z",
     "shell.execute_reply.started": "2022-11-19T07:30:28.974144Z"
    }
   },
   "outputs": [
    {
     "ename": "SyntaxError",
     "evalue": "(unicode error) 'unicodeescape' codec can't decode bytes in position 2-3: truncated \\UXXXXXXXX escape (1517479059.py, line 6)",
     "output_type": "error",
     "traceback": [
      "\u001b[1;36m  Cell \u001b[1;32mIn[17], line 6\u001b[1;36m\u001b[0m\n\u001b[1;33m    folderPath = os.path.join('C:\\Users\\Dell\\Brain Tumor',i)\u001b[0m\n\u001b[1;37m                                                         ^\u001b[0m\n\u001b[1;31mSyntaxError\u001b[0m\u001b[1;31m:\u001b[0m (unicode error) 'unicodeescape' codec can't decode bytes in position 2-3: truncated \\UXXXXXXXX escape\n"
     ]
    }
   ],
   "source": [
    "X_train = []\n",
    "Y_train = []\n",
    "image_size = 150\n",
    "labels = ['glioma_tumor','meningioma_tumor','no_tumor','pituitary_tumor']\n",
    "for i in labels:\n",
    "    folderPath = os.path.join('C:\\Users\\Dell\\Brain Tumor',i)\n",
    "    for j in os.listdir(folderPath):\n",
    "        img = cv2.imread(os.path.join(folderPath,j))\n",
    "        img = cv2.resize(img,(image_size,image_size))\n",
    "        X_train.append(img)\n",
    "        Y_train.append(i)\n",
    "        \n",
    "for i in labels:\n",
    "    folderPath = os.path.join('C:\\Users\\Dell\\Brain Tumor',i)\n",
    "   \n",
    "    for j in os.listdir(folderPath):\n",
    "        img = cv2.imread(os.path.join(folderPath,j))\n",
    "        img = cv2.resize(img,(image_size,image_size))\n",
    "        X_train.append(img)\n",
    "        Y_train.append(i)\n",
    "\n",
    "X_train = np.array(X_train)\n",
    "Y_train = np.array(Y_train)"
   ]
  },
  {
   "cell_type": "code",
   "execution_count": null,
   "metadata": {
    "execution": {
     "iopub.execute_input": "2022-11-19T07:32:34.733259Z",
     "iopub.status.busy": "2022-11-19T07:32:34.732643Z",
     "iopub.status.idle": "2022-11-19T07:32:34.910597Z",
     "shell.execute_reply": "2022-11-19T07:32:34.904661Z",
     "shell.execute_reply.started": "2022-11-19T07:32:34.733212Z"
    }
   },
   "outputs": [],
   "source": [
    "X_train,Y_train = shuffle(X_train,Y_train,random_state=101)\n",
    "X_train.shape"
   ]
  },
  {
   "cell_type": "raw",
   "metadata": {},
   "source": [
    "Train test split"
   ]
  },
  {
   "cell_type": "code",
   "execution_count": null,
   "metadata": {
    "execution": {
     "iopub.execute_input": "2022-11-19T07:35:14.067228Z",
     "iopub.status.busy": "2022-11-19T07:35:14.066783Z",
     "iopub.status.idle": "2022-11-19T07:35:14.123077Z",
     "shell.execute_reply": "2022-11-19T07:35:14.121936Z",
     "shell.execute_reply.started": "2022-11-19T07:35:14.067168Z"
    }
   },
   "outputs": [],
   "source": [
    "X_train,X_test,y_train,y_test = train_test_split(X_train,Y_train,test_size=0.1,random_state=101)"
   ]
  },
  {
   "cell_type": "code",
   "execution_count": null,
   "metadata": {
    "execution": {
     "iopub.execute_input": "2022-11-19T07:40:02.908877Z",
     "iopub.status.busy": "2022-11-19T07:40:02.908265Z",
     "iopub.status.idle": "2022-11-19T07:40:02.918091Z",
     "shell.execute_reply": "2022-11-19T07:40:02.916950Z",
     "shell.execute_reply.started": "2022-11-19T07:40:02.908839Z"
    }
   },
   "outputs": [],
   "source": [
    "y_train_new = []\n",
    "for i in y_train:\n",
    "    y_train_new.append(labels.index(i))\n",
    "y_train=y_train_new\n",
    "y_train = tf.keras.utils.to_categorical(y_train)\n",
    "\n",
    "y_test_new = []\n",
    "for i in y_test:\n",
    "    y_test_new.append(labels.index(i))\n",
    "y_test=y_test_new\n",
    "y_test = tf.keras.utils.to_categorical(y_test)"
   ]
  },
  {
   "cell_type": "markdown",
   "metadata": {},
   "source": [
    "Convolutional Neural Network"
   ]
  },
  {
   "cell_type": "code",
   "execution_count": null,
   "metadata": {
    "execution": {
     "iopub.execute_input": "2022-11-19T07:49:31.588314Z",
     "iopub.status.busy": "2022-11-19T07:49:31.587909Z",
     "iopub.status.idle": "2022-11-19T07:49:34.786974Z",
     "shell.execute_reply": "2022-11-19T07:49:34.785930Z",
     "shell.execute_reply.started": "2022-11-19T07:49:31.588280Z"
    }
   },
   "outputs": [],
   "source": [
    "model = Sequential()\n",
    "model.add(Conv2D(32,(3,3),activation = 'relu',input_shape=(150,150,3)))\n",
    "model.add(Conv2D(64,(3,3),activation='relu'))\n",
    "model.add(MaxPooling2D(2,2))\n",
    "model.add(Dropout(0.3))\n",
    "model.add(Conv2D(64,(3,3),activation='relu'))\n",
    "model.add(Conv2D(64,(3,3),activation='relu'))\n",
    "model.add(Dropout(0.3))\n",
    "model.add(MaxPooling2D(2,2))\n",
    "model.add(Dropout(0.3))\n",
    "model.add(Conv2D(128,(3,3),activation='relu'))\n",
    "model.add(Conv2D(128,(3,3),activation='relu'))\n",
    "model.add(Conv2D(128,(3,3),activation='relu'))\n",
    "model.add(MaxPooling2D(2,2))\n",
    "model.add(Dropout(0.3))\n",
    "model.add(Conv2D(128,(3,3),activation='relu'))\n",
    "model.add(Conv2D(256,(3,3),activation='relu'))\n",
    "model.add(MaxPooling2D(2,2))\n",
    "model.add(Dropout(0.3))\n",
    "model.add(Flatten())\n",
    "model.add(Dense(512,activation = 'relu'))\n",
    "model.add(Dense(512,activation = 'relu'))\n",
    "model.add(Dropout(0.3))\n",
    "model.add(Dense(4,activation='softmax'))"
   ]
  },
  {
   "cell_type": "code",
   "execution_count": null,
   "metadata": {
    "execution": {
     "iopub.execute_input": "2022-11-19T07:49:50.282210Z",
     "iopub.status.busy": "2022-11-19T07:49:50.281096Z",
     "iopub.status.idle": "2022-11-19T07:49:50.291252Z",
     "shell.execute_reply": "2022-11-19T07:49:50.290239Z",
     "shell.execute_reply.started": "2022-11-19T07:49:50.282133Z"
    }
   },
   "outputs": [],
   "source": [
    "model.summary()"
   ]
  },
  {
   "cell_type": "code",
   "execution_count": null,
   "metadata": {
    "execution": {
     "iopub.execute_input": "2022-11-19T07:51:48.275238Z",
     "iopub.status.busy": "2022-11-19T07:51:48.274809Z",
     "iopub.status.idle": "2022-11-19T07:51:48.289950Z",
     "shell.execute_reply": "2022-11-19T07:51:48.288874Z",
     "shell.execute_reply.started": "2022-11-19T07:51:48.275150Z"
    }
   },
   "outputs": [],
   "source": [
    "model.compile(loss='categorical_crossentropy',optimizer='Adam',metrics=['accuracy'])"
   ]
  },
  {
   "cell_type": "code",
   "execution_count": null,
   "metadata": {
    "execution": {
     "iopub.execute_input": "2022-11-19T07:53:06.573289Z",
     "iopub.status.busy": "2022-11-19T07:53:06.572894Z",
     "iopub.status.idle": "2022-11-19T07:54:29.855720Z",
     "shell.execute_reply": "2022-11-19T07:54:29.854598Z",
     "shell.execute_reply.started": "2022-11-19T07:53:06.573254Z"
    }
   },
   "outputs": [],
   "source": [
    "history = model.fit(X_train,y_train,epochs=20,validation_split=0.1)"
   ]
  },
  {
   "cell_type": "code",
   "execution_count": null,
   "metadata": {
    "execution": {
     "iopub.execute_input": "2022-11-19T07:56:38.337826Z",
     "iopub.status.busy": "2022-11-19T07:56:38.337268Z",
     "iopub.status.idle": "2022-11-19T07:56:38.414947Z",
     "shell.execute_reply": "2022-11-19T07:56:38.413785Z",
     "shell.execute_reply.started": "2022-11-19T07:56:38.337783Z"
    }
   },
   "outputs": [],
   "source": [
    "import matplotlib.pyplot as plt\n",
    "import seaborn as sns"
   ]
  },
  {
   "cell_type": "code",
   "execution_count": null,
   "metadata": {
    "execution": {
     "iopub.execute_input": "2022-11-19T07:59:08.341048Z",
     "iopub.status.busy": "2022-11-19T07:59:08.340664Z",
     "iopub.status.idle": "2022-11-19T07:59:08.586066Z",
     "shell.execute_reply": "2022-11-19T07:59:08.585137Z",
     "shell.execute_reply.started": "2022-11-19T07:59:08.341014Z"
    }
   },
   "outputs": [],
   "source": [
    "#model.save('braintumor.h5')\n",
    "\n",
    "acc = history.history['accuracy']\n",
    "val_acc = history.history['val_accuracy']\n",
    "epochs = range(len(acc))\n",
    "fig = plt.figure(figsize=(14,7))\n",
    "plt.plot(epochs,acc,'r',label=\"Training Accuracy\")\n",
    "plt.plot(epochs,val_acc,'b',label=\"Validation Accuracy\")\n",
    "plt.legend(loc='upper left')\n",
    "plt.show()"
   ]
  },
  {
   "cell_type": "code",
   "execution_count": null,
   "metadata": {
    "execution": {
     "iopub.execute_input": "2022-11-19T08:00:16.059362Z",
     "iopub.status.busy": "2022-11-19T08:00:16.058966Z",
     "iopub.status.idle": "2022-11-19T08:00:16.289095Z",
     "shell.execute_reply": "2022-11-19T08:00:16.288046Z",
     "shell.execute_reply.started": "2022-11-19T08:00:16.059328Z"
    }
   },
   "outputs": [],
   "source": [
    "loss = history.history['loss']\n",
    "val_loss = history.history['val_loss']\n",
    "epochs = range(len(loss))\n",
    "fig = plt.figure(figsize=(14,7))\n",
    "plt.plot(epochs,loss,'r',label=\"Training loss\")\n",
    "plt.plot(epochs,val_loss,'b',label=\"Validation loss\")\n",
    "plt.legend(loc='upper left')\n",
    "plt.show()"
   ]
  },
  {
   "cell_type": "markdown",
   "metadata": {},
   "source": [
    "Prediction"
   ]
  },
  {
   "cell_type": "code",
   "execution_count": null,
   "metadata": {
    "execution": {
     "iopub.execute_input": "2022-11-19T08:02:27.811444Z",
     "iopub.status.busy": "2022-11-19T08:02:27.811000Z",
     "iopub.status.idle": "2022-11-19T08:02:27.836705Z",
     "shell.execute_reply": "2022-11-19T08:02:27.835457Z",
     "shell.execute_reply.started": "2022-11-19T08:02:27.811404Z"
    }
   },
   "outputs": [],
   "source": [
    "img = cv2.imread('../input/brain-tumor-classification-mri/Training/pituitary_tumor/p (107).jpg')\n",
    "img = cv2.resize(img,(150,150))\n",
    "img_array = np.array(img)\n",
    "img_array.shape"
   ]
  },
  {
   "cell_type": "code",
   "execution_count": null,
   "metadata": {
    "execution": {
     "iopub.execute_input": "2022-11-19T08:03:03.761043Z",
     "iopub.status.busy": "2022-11-19T08:03:03.760314Z",
     "iopub.status.idle": "2022-11-19T08:03:03.767644Z",
     "shell.execute_reply": "2022-11-19T08:03:03.766627Z",
     "shell.execute_reply.started": "2022-11-19T08:03:03.761003Z"
    }
   },
   "outputs": [],
   "source": [
    "img_array = img_array.reshape(1,150,150,3)\n",
    "img_array.shape"
   ]
  },
  {
   "cell_type": "code",
   "execution_count": null,
   "metadata": {
    "execution": {
     "iopub.execute_input": "2022-11-19T08:04:17.672961Z",
     "iopub.status.busy": "2022-11-19T08:04:17.672532Z",
     "iopub.status.idle": "2022-11-19T08:04:17.900139Z",
     "shell.execute_reply": "2022-11-19T08:04:17.899171Z",
     "shell.execute_reply.started": "2022-11-19T08:04:17.672925Z"
    }
   },
   "outputs": [],
   "source": [
    "from tensorflow.keras.preprocessing import image\n",
    "img = image.load_img('../input/brain-tumor-classification-mri/Training/pituitary_tumor/p (107).jpg')\n",
    "plt.imshow(img,interpolation='nearest')\n",
    "plt.show()"
   ]
  },
  {
   "cell_type": "code",
   "execution_count": null,
   "metadata": {
    "execution": {
     "iopub.execute_input": "2022-11-19T08:05:21.269738Z",
     "iopub.status.busy": "2022-11-19T08:05:21.269023Z",
     "iopub.status.idle": "2022-11-19T08:05:21.520121Z",
     "shell.execute_reply": "2022-11-19T08:05:21.519186Z",
     "shell.execute_reply.started": "2022-11-19T08:05:21.269701Z"
    }
   },
   "outputs": [],
   "source": [
    "a=model.predict(img_array)\n",
    "indices = a.argmax()\n",
    "indices"
   ]
  }
 ],
 "metadata": {
  "kernelspec": {
   "display_name": "Python 3 (ipykernel)",
   "language": "python",
   "name": "python3"
  },
  "language_info": {
   "codemirror_mode": {
    "name": "ipython",
    "version": 3
   },
   "file_extension": ".py",
   "mimetype": "text/x-python",
   "name": "python",
   "nbconvert_exporter": "python",
   "pygments_lexer": "ipython3",
   "version": "3.9.7"
  }
 },
 "nbformat": 4,
 "nbformat_minor": 4
}
